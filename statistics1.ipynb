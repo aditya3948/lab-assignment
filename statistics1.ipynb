{
 "cells": [
  {
   "cell_type": "code",
   "execution_count": 1,
   "id": "chicken-mixture",
   "metadata": {},
   "outputs": [
    {
     "name": "stdout",
     "output_type": "stream",
     "text": [
      "How many values you add in a list:4\n",
      "Enter the values:21\n",
      "Enter the values:43\n",
      "Enter the values:56\n",
      "Enter the values:44\n",
      "Mean of values is = 41\n",
      "Mode of values is = 21\n",
      "Median of values is = 43.5\n",
      "Variance of values is = 159.5\n",
      "Standard deviation of values is = 12.62933094031509\n"
     ]
    }
   ],
   "source": [
    "import statistics\n",
    "\n",
    "num_of_terms = int(input('How many values you add in a list:'))\n",
    "sample_list = []\n",
    "counter = 1\n",
    "while num_of_terms >= counter:\n",
    "    user_input = int(input('Enter the values:'))\n",
    "    sample_list.append(user_input)\n",
    "    counter = counter + 1\n",
    "Mean = statistics.mean(sample_list)\n",
    "print('Mean of values is =',Mean)\n",
    "Mode = statistics.mode(sample_list)\n",
    "print('Mode of values is =',Mode)\n",
    "Median = statistics.median(sample_list)\n",
    "print('Median of values is =',Median)\n",
    "variance = sum((x - Mean) ** 2 for x in sample_list)/num_of_terms\n",
    "print('Variance of values is =',variance)\n",
    "S_D = statistics.sqrt(variance)\n",
    "print('Standard deviation of values is =',S_D)"
   ]
  },
  {
   "cell_type": "code",
   "execution_count": null,
   "id": "handed-reserve",
   "metadata": {},
   "outputs": [],
   "source": []
  }
 ],
 "metadata": {
  "kernelspec": {
   "display_name": "Python 3",
   "language": "python",
   "name": "python3"
  },
  "language_info": {
   "codemirror_mode": {
    "name": "ipython",
    "version": 3
   },
   "file_extension": ".py",
   "mimetype": "text/x-python",
   "name": "python",
   "nbconvert_exporter": "python",
   "pygments_lexer": "ipython3",
   "version": "3.9.2"
  }
 },
 "nbformat": 4,
 "nbformat_minor": 5
}
